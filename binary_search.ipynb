{
  "nbformat": 4,
  "nbformat_minor": 0,
  "metadata": {
    "colab": {
      "provenance": [],
      "authorship_tag": "ABX9TyMjV/ehpcK/iBNT9ALQnAVY"
    },
    "kernelspec": {
      "name": "python3",
      "display_name": "Python 3"
    },
    "language_info": {
      "name": "python"
    }
  },
  "cells": [
    {
      "cell_type": "markdown",
      "source": [
        "Here's a systematic strategy we'll apply for solving problems:\n",
        "\n",
        "* State the problem clearly. Identify the input & output formats.\n",
        "* Come up with some example inputs & outputs. Try to cover all edge cases.\n",
        "* Come up with a correct solution for the problem. State it in plain English.\n",
        "* Implement the solution and test it using example inputs. Fix bugs, if any.\n",
        "* Analyze the algorithm's complexity and identify inefficiencies, if any.\n",
        "* Apply the right technique to overcome the inefficiency. Repeat steps 3 to 6.\n",
        "\n",
        "\n"
      ],
      "metadata": {
        "id": "QLsSC7qungGr"
      }
    },
    {
      "cell_type": "code",
      "source": [
        "#cards = [13, 11, 10, 7, 4, 3, 1, 0]\n",
        "#query = 7 #szukany numer w liście\n",
        "#output = 3 # pozycja w liście "
      ],
      "metadata": {
        "id": "FeZbrfwkN5dN"
      },
      "execution_count": 31,
      "outputs": []
    },
    {
      "cell_type": "code",
      "source": [
        "def locate_card(cards, query):\n",
        "    position = 0\n",
        "    while position < len(cards):\n",
        "        if cards[position] == query:\n",
        "            return position\n",
        "        position += 1\n",
        "    return -1\n",
        "\n",
        "\n"
      ],
      "metadata": {
        "id": "vN8iZqh0oDsR"
      },
      "execution_count": 32,
      "outputs": []
    },
    {
      "cell_type": "code",
      "source": [
        "test = {\n",
        "    'input': { \n",
        "        'cards': [13, 11, 10, 7, 4, 3, 1, 0], \n",
        "        'query': 7\n",
        "    },\n",
        "    'output': 3\n",
        "}\n",
        "\n",
        "locate_card(**test['input']) == test['output']\n"
      ],
      "metadata": {
        "colab": {
          "base_uri": "https://localhost:8080/"
        },
        "id": "g-R35Q5vsIro",
        "outputId": "1c71668d-e128-4e31-b6db-f8c20a75e3ff"
      },
      "execution_count": 33,
      "outputs": [
        {
          "output_type": "execute_result",
          "data": {
            "text/plain": [
              "True"
            ]
          },
          "metadata": {},
          "execution_count": 33
        }
      ]
    },
    {
      "cell_type": "code",
      "source": [
        "!pip install jovian --upgrade --quiet\n",
        "from jovian.pythondsa import evaluate_test_case\n",
        "\n",
        "evaluate_test_case(locate_card, test)\n",
        "\n"
      ],
      "metadata": {
        "colab": {
          "base_uri": "https://localhost:8080/"
        },
        "id": "npm0mQJnKLW9",
        "outputId": "85ff780d-c439-4585-ccc1-68032b3927ba"
      },
      "execution_count": 34,
      "outputs": [
        {
          "output_type": "stream",
          "name": "stdout",
          "text": [
            "\n",
            "Input:\n",
            "{'cards': [13, 11, 10, 7, 4, 3, 1, 0], 'query': 7}\n",
            "\n",
            "Expected Output:\n",
            "3\n",
            "\n",
            "\n",
            "Actual Output:\n",
            "3\n",
            "\n",
            "Execution Time:\n",
            "0.005 ms\n",
            "\n",
            "Test Result:\n",
            "\u001b[92mPASSED\u001b[0m\n",
            "\n"
          ]
        },
        {
          "output_type": "execute_result",
          "data": {
            "text/plain": [
              "(3, True, 0.005)"
            ]
          },
          "metadata": {},
          "execution_count": 34
        }
      ]
    },
    {
      "cell_type": "code",
      "source": [
        "tests = []\n",
        "\n",
        "tests.append(test)\n",
        "\n",
        "tests.append({\n",
        "    'input': {\n",
        "        'cards': [13, 11, 10, 7, 4, 3, 1, 0],\n",
        "        'query': 1\n",
        "    },\n",
        "    'output': 6\n",
        "})"
      ],
      "metadata": {
        "id": "8FIJ-cEitKve"
      },
      "execution_count": 35,
      "outputs": []
    },
    {
      "cell_type": "code",
      "source": [
        "# query is the first element\n",
        "tests.append({\n",
        "    'input': {\n",
        "        'cards': [4, 2, 1, -1],\n",
        "        'query': 4\n",
        "    },\n",
        "    'output': 0\n",
        "})"
      ],
      "metadata": {
        "id": "jHD6HjxktYVw"
      },
      "execution_count": 36,
      "outputs": []
    },
    {
      "cell_type": "code",
      "source": [
        "# query is the last element\n",
        "tests.append({\n",
        "    'input': {\n",
        "        'cards': [3, -1, -9, -127],\n",
        "        'query': -127\n",
        "    },\n",
        "    'output': 3\n",
        "})"
      ],
      "metadata": {
        "id": "JL1dz3vAtZ5V"
      },
      "execution_count": 37,
      "outputs": []
    },
    {
      "cell_type": "code",
      "source": [
        "# cards contains just one element, query\n",
        "tests.append({\n",
        "    'input': {\n",
        "        'cards': [6],\n",
        "        'query': 6\n",
        "    },\n",
        "    'output': 0 \n",
        "})"
      ],
      "metadata": {
        "id": "q1mHFMEEta9l"
      },
      "execution_count": 38,
      "outputs": []
    },
    {
      "cell_type": "code",
      "source": [
        "# cards does not contain query \n",
        "tests.append({\n",
        "    'input': {\n",
        "        'cards': [9, 7, 5, 2, -9],\n",
        "        'query': 4\n",
        "    },\n",
        "    'output': -1\n",
        "})"
      ],
      "metadata": {
        "id": "CghYMCXKto3N"
      },
      "execution_count": 39,
      "outputs": []
    },
    {
      "cell_type": "code",
      "source": [
        "# cards is empty\n",
        "tests.append({\n",
        "    'input': {\n",
        "        'cards': [],\n",
        "        'query': 7\n",
        "    },\n",
        "    'output': -1\n",
        "})"
      ],
      "metadata": {
        "id": "eiHKfeh0tuLk"
      },
      "execution_count": 40,
      "outputs": []
    },
    {
      "cell_type": "code",
      "source": [
        "# numbers can repeat in cards\n",
        "tests.append({\n",
        "    'input': {\n",
        "        'cards': [8, 8, 6, 6, 6, 6, 6, 3, 2, 2, 2, 0, 0, 0],\n",
        "        'query': 3\n",
        "    },\n",
        "    'output': 7\n",
        "})"
      ],
      "metadata": {
        "id": "UMQsxIu8tv7l"
      },
      "execution_count": 41,
      "outputs": []
    },
    {
      "cell_type": "code",
      "source": [
        "# query occurs multiple times\n",
        "tests.append({\n",
        "    'input': {\n",
        "        'cards': [8, 8, 6, 6, 6, 6, 6, 6, 3, 2, 2, 2, 0, 0, 0],\n",
        "        'query': 6\n",
        "    },\n",
        "    'output': 2\n",
        "})"
      ],
      "metadata": {
        "id": "GH-NqTFMt1kF"
      },
      "execution_count": 42,
      "outputs": []
    },
    {
      "cell_type": "code",
      "source": [
        "tests"
      ],
      "metadata": {
        "colab": {
          "base_uri": "https://localhost:8080/"
        },
        "id": "OZLcA2gWt8jk",
        "outputId": "a48ee04f-7efc-4dae-b32d-1cb08b0766e7"
      },
      "execution_count": 43,
      "outputs": [
        {
          "output_type": "execute_result",
          "data": {
            "text/plain": [
              "[{'input': {'cards': [13, 11, 10, 7, 4, 3, 1, 0], 'query': 7}, 'output': 3},\n",
              " {'input': {'cards': [13, 11, 10, 7, 4, 3, 1, 0], 'query': 1}, 'output': 6},\n",
              " {'input': {'cards': [4, 2, 1, -1], 'query': 4}, 'output': 0},\n",
              " {'input': {'cards': [3, -1, -9, -127], 'query': -127}, 'output': 3},\n",
              " {'input': {'cards': [6], 'query': 6}, 'output': 0},\n",
              " {'input': {'cards': [9, 7, 5, 2, -9], 'query': 4}, 'output': -1},\n",
              " {'input': {'cards': [], 'query': 7}, 'output': -1},\n",
              " {'input': {'cards': [8, 8, 6, 6, 6, 6, 6, 3, 2, 2, 2, 0, 0, 0], 'query': 3},\n",
              "  'output': 7},\n",
              " {'input': {'cards': [8, 8, 6, 6, 6, 6, 6, 6, 3, 2, 2, 2, 0, 0, 0],\n",
              "   'query': 6},\n",
              "  'output': 2}]"
            ]
          },
          "metadata": {},
          "execution_count": 43
        }
      ]
    },
    {
      "cell_type": "code",
      "source": [
        "from jovian.pythondsa import evaluate_test_cases\n",
        "evaluate_test_cases(locate_card, tests)"
      ],
      "metadata": {
        "colab": {
          "base_uri": "https://localhost:8080/"
        },
        "id": "qfp3eVF2J2_3",
        "outputId": "023ee964-f989-4731-a47c-84631802b6e9"
      },
      "execution_count": 44,
      "outputs": [
        {
          "output_type": "stream",
          "name": "stdout",
          "text": [
            "\n",
            "\u001b[1mTEST CASE #0\u001b[0m\n",
            "\n",
            "Input:\n",
            "{'cards': [13, 11, 10, 7, 4, 3, 1, 0], 'query': 7}\n",
            "\n",
            "Expected Output:\n",
            "3\n",
            "\n",
            "\n",
            "Actual Output:\n",
            "3\n",
            "\n",
            "Execution Time:\n",
            "0.004 ms\n",
            "\n",
            "Test Result:\n",
            "\u001b[92mPASSED\u001b[0m\n",
            "\n",
            "\n",
            "\u001b[1mTEST CASE #1\u001b[0m\n",
            "\n",
            "Input:\n",
            "{'cards': [13, 11, 10, 7, 4, 3, 1, 0], 'query': 1}\n",
            "\n",
            "Expected Output:\n",
            "6\n",
            "\n",
            "\n",
            "Actual Output:\n",
            "6\n",
            "\n",
            "Execution Time:\n",
            "0.004 ms\n",
            "\n",
            "Test Result:\n",
            "\u001b[92mPASSED\u001b[0m\n",
            "\n",
            "\n",
            "\u001b[1mTEST CASE #2\u001b[0m\n",
            "\n",
            "Input:\n",
            "{'cards': [4, 2, 1, -1], 'query': 4}\n",
            "\n",
            "Expected Output:\n",
            "0\n",
            "\n",
            "\n",
            "Actual Output:\n",
            "0\n",
            "\n",
            "Execution Time:\n",
            "0.002 ms\n",
            "\n",
            "Test Result:\n",
            "\u001b[92mPASSED\u001b[0m\n",
            "\n",
            "\n",
            "\u001b[1mTEST CASE #3\u001b[0m\n",
            "\n",
            "Input:\n",
            "{'cards': [3, -1, -9, -127], 'query': -127}\n",
            "\n",
            "Expected Output:\n",
            "3\n",
            "\n",
            "\n",
            "Actual Output:\n",
            "3\n",
            "\n",
            "Execution Time:\n",
            "0.004 ms\n",
            "\n",
            "Test Result:\n",
            "\u001b[92mPASSED\u001b[0m\n",
            "\n",
            "\n",
            "\u001b[1mTEST CASE #4\u001b[0m\n",
            "\n",
            "Input:\n",
            "{'cards': [6], 'query': 6}\n",
            "\n",
            "Expected Output:\n",
            "0\n",
            "\n",
            "\n",
            "Actual Output:\n",
            "0\n",
            "\n",
            "Execution Time:\n",
            "0.002 ms\n",
            "\n",
            "Test Result:\n",
            "\u001b[92mPASSED\u001b[0m\n",
            "\n",
            "\n",
            "\u001b[1mTEST CASE #5\u001b[0m\n",
            "\n",
            "Input:\n",
            "{'cards': [9, 7, 5, 2, -9], 'query': 4}\n",
            "\n",
            "Expected Output:\n",
            "-1\n",
            "\n",
            "\n",
            "Actual Output:\n",
            "-1\n",
            "\n",
            "Execution Time:\n",
            "0.004 ms\n",
            "\n",
            "Test Result:\n",
            "\u001b[92mPASSED\u001b[0m\n",
            "\n",
            "\n",
            "\u001b[1mTEST CASE #6\u001b[0m\n",
            "\n",
            "Input:\n",
            "{'cards': [], 'query': 7}\n",
            "\n",
            "Expected Output:\n",
            "-1\n",
            "\n",
            "\n",
            "Actual Output:\n",
            "-1\n",
            "\n",
            "Execution Time:\n",
            "0.002 ms\n",
            "\n",
            "Test Result:\n",
            "\u001b[92mPASSED\u001b[0m\n",
            "\n",
            "\n",
            "\u001b[1mTEST CASE #7\u001b[0m\n",
            "\n",
            "Input:\n",
            "{'cards': [8, 8, 6, 6, 6, 6, 6, 3, 2, 2, 2, 0, 0, 0], 'query': 3}\n",
            "\n",
            "Expected Output:\n",
            "7\n",
            "\n",
            "\n",
            "Actual Output:\n",
            "7\n",
            "\n",
            "Execution Time:\n",
            "0.004 ms\n",
            "\n",
            "Test Result:\n",
            "\u001b[92mPASSED\u001b[0m\n",
            "\n",
            "\n",
            "\u001b[1mTEST CASE #8\u001b[0m\n",
            "\n",
            "Input:\n",
            "{'cards': [8, 8, 6, 6, 6, 6, 6, 6, 3, 2, 2, 2, 0, 0, 0], 'query': 6}\n",
            "\n",
            "Expected Output:\n",
            "2\n",
            "\n",
            "\n",
            "Actual Output:\n",
            "2\n",
            "\n",
            "Execution Time:\n",
            "0.003 ms\n",
            "\n",
            "Test Result:\n",
            "\u001b[92mPASSED\u001b[0m\n",
            "\n",
            "\n",
            "\u001b[1mSUMMARY\u001b[0m\n",
            "\n",
            "TOTAL: 9, \u001b[92mPASSED\u001b[0m: 9, \u001b[91mFAILED\u001b[0m: 0\n"
          ]
        },
        {
          "output_type": "execute_result",
          "data": {
            "text/plain": [
              "[(3, True, 0.004),\n",
              " (6, True, 0.004),\n",
              " (0, True, 0.002),\n",
              " (3, True, 0.004),\n",
              " (0, True, 0.002),\n",
              " (-1, True, 0.004),\n",
              " (-1, True, 0.002),\n",
              " (7, True, 0.004),\n",
              " (2, True, 0.003)]"
            ]
          },
          "metadata": {},
          "execution_count": 44
        }
      ]
    },
    {
      "cell_type": "code",
      "source": [],
      "metadata": {
        "id": "77MNSo9juvka"
      },
      "execution_count": 44,
      "outputs": []
    }
  ]
}